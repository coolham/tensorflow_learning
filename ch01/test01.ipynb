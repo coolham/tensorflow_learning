{
 "cells": [
  {
   "cell_type": "code",
   "execution_count": 1,
   "metadata": {},
   "outputs": [
    {
     "name": "stdout",
     "output_type": "stream",
     "text": [
      "b'Hello Tensorflow!'\n"
     ]
    }
   ],
   "source": [
    "import tensorflow as tf\n",
    "import numpy as np\n",
    "\n",
    "tfs = tf.InteractiveSession()\n",
    "hello = tf.constant('Hello Tensorflow!')\n",
    "print(tfs.run(hello))"
   ]
  },
  {
   "cell_type": "code",
   "execution_count": 2,
   "metadata": {},
   "outputs": [
    {
     "name": "stdout",
     "output_type": "stream",
     "text": [
      "c1 (x): Tensor(\"x:0\", shape=(), dtype=int32)\n",
      "c2 (y): Tensor(\"y:0\", shape=(), dtype=float32)\n",
      "c3 (z): Tensor(\"z:0\", shape=(), dtype=float32)\n",
      "run([c1, c2, c3]): [5, 6.0, 7.0]\n"
     ]
    }
   ],
   "source": [
    "c1 = tf.constant(5, name='x')\n",
    "c2 = tf.constant(6.0, name='y')\n",
    "c3 = tf.constant(7.0, tf.float32, name='z')\n",
    "print('c1 (x):', c1)\n",
    "print('c2 (y):', c2)\n",
    "print('c3 (z):', c3)\n",
    "\n",
    "print('run([c1, c2, c3]):', tfs.run([c1, c2, c3]))"
   ]
  },
  {
   "cell_type": "code",
   "execution_count": 4,
   "metadata": {},
   "outputs": [
    {
     "name": "stdout",
     "output_type": "stream",
     "text": [
      "op1: Tensor(\"Add_1:0\", shape=(), dtype=float32)\n",
      "op2: Tensor(\"Mul_1:0\", shape=(), dtype=float32)\n",
      "run(op1): 13.0\n",
      "run(op2): 42.0\n"
     ]
    }
   ],
   "source": [
    "op1 = tf.add(c2, c3)\n",
    "op2 = tf.multiply(c2, c3)\n",
    "print('op1:', op1)\n",
    "print('op2:', op2)\n",
    "\n",
    "print('run(op1):', tfs.run(op1))\n",
    "print('run(op2):', tfs.run(op2))"
   ]
  },
  {
   "cell_type": "code",
   "execution_count": 8,
   "metadata": {},
   "outputs": [
    {
     "name": "stdout",
     "output_type": "stream",
     "text": [
      "p1: Tensor(\"Placeholder_6:0\", dtype=float32)\n",
      "p2: Tensor(\"Placeholder_7:0\", dtype=float32)\n",
      "run(op4, {p1:2.0, p2:3.0}) : 6.0\n",
      "run(op4, feed_dict={p1:3.0, p2:4.0}) : 12.0\n",
      "run(op4, feed_dict={p1:[2.0, 3.0, 4.0], p2:[3.0, 4.0, 5.0]}) [ 6. 12. 20.]\n"
     ]
    }
   ],
   "source": [
    "p1 = tf.placeholder(tf.float32)\n",
    "p2 = tf.placeholder(tf.float32)\n",
    "print('p1:', p1)\n",
    "print('p2:', p2)\n",
    "\n",
    "op4 = p1 * p2\n",
    "print('run(op4, {p1:2.0, p2:3.0}) :', tfs.run(op4, {p1:2.0, p2:3.0}))\n",
    "\n",
    "print('run(op4, feed_dict={p1:3.0, p2:4.0}) :', tfs.run(op4, feed_dict={p1:3.0, p2:4.0}))\n",
    "\n",
    "print('run(op4, feed_dict={p1:[2.0, 3.0, 4.0], p2:[3.0, 4.0, 5.0]})', \n",
    "     tfs.run(op4, feed_dict={p1:[2.0, 3.0, 4.0], p2:[3.0, 4.0, 5.0]}))"
   ]
  },
  {
   "cell_type": "code",
   "execution_count": 3,
   "metadata": {},
   "outputs": [
    {
     "name": "stdout",
     "output_type": "stream",
     "text": [
      "tf_t: Tensor(\"Const_2:0\", shape=(), dtype=float64)\n",
      "run(tf_t): 5.0\n",
      "a1dim shape: (5,)\n",
      "tf_t: Tensor(\"Const_3:0\", shape=(5,), dtype=float64)\n",
      "tf_t[0]: Tensor(\"strided_slice:0\", shape=(), dtype=float64)\n",
      "tf_t[2]: Tensor(\"strided_slice_1:0\", shape=(), dtype=float64)\n",
      "run(tf_t):\n",
      " [1.   2.   3.   4.   5.99]\n"
     ]
    }
   ],
   "source": [
    "tf_t = tf.convert_to_tensor(5.0, dtype=tf.float64)\n",
    "print('tf_t:', tf_t)\n",
    "print('run(tf_t):', tfs.run(tf_t))\n",
    "\n",
    "a1dim = np.array([1, 2, 3, 4, 5.99])\n",
    "print('a1dim shape:', a1dim.shape)\n",
    "\n",
    "tf_t = tf.convert_to_tensor(a1dim, dtype=tf.float64)\n",
    "print('tf_t:', tf_t)\n",
    "print('tf_t[0]:', tf_t[0])\n",
    "print('tf_t[2]:', tf_t[2])\n",
    "print('run(tf_t):\\n', tfs.run(tf_t))"
   ]
  },
  {
   "cell_type": "code",
   "execution_count": 5,
   "metadata": {},
   "outputs": [
    {
     "name": "stdout",
     "output_type": "stream",
     "text": [
      "a2dim shape: (3, 5)\n",
      "tf_t: Tensor(\"Const_4:0\", shape=(3, 5), dtype=float64)\n",
      "tf_t[0][0]: Tensor(\"strided_slice_3:0\", shape=(), dtype=float64)\n",
      "tf_t[1][2]: Tensor(\"strided_slice_5:0\", shape=(), dtype=float64)\n",
      "run(tf_t):\n",
      " [[1.   2.   3.   4.   5.99]\n",
      " [2.   3.   4.   5.   6.99]\n",
      " [3.   4.   5.   6.   7.99]]\n"
     ]
    }
   ],
   "source": [
    "a2dim = np.array([(1,2,3,4,5.99),\n",
    "                 (2,3,4,5,6.99),\n",
    "                 (3,4,5,6,7.99)])\n",
    "print('a2dim shape:', a2dim.shape)\n",
    "\n",
    "tf_t = tf.convert_to_tensor(a2dim, dtype=tf.float64)\n",
    "print('tf_t:', tf_t)\n",
    "print('tf_t[0][0]:', tf_t[0][0])\n",
    "print('tf_t[1][2]:', tf_t[1][2])\n",
    "print('run(tf_t):\\n', tfs.run(tf_t))"
   ]
  },
  {
   "cell_type": "code",
   "execution_count": 6,
   "metadata": {},
   "outputs": [
    {
     "name": "stdout",
     "output_type": "stream",
     "text": [
      "a3dim shape: (2, 2, 2)\n",
      "tf_t: Tensor(\"Const_5:0\", shape=(2, 2, 2), dtype=float64)\n",
      "tf_t[0][0][0]: Tensor(\"strided_slice_8:0\", shape=(), dtype=float64)\n",
      "tf_t[1][1][1]: Tensor(\"strided_slice_11:0\", shape=(), dtype=float64)\n",
      "run(tf_t):\n",
      " [[[1. 2.]\n",
      "  [3. 4.]]\n",
      "\n",
      " [[5. 6.]\n",
      "  [7. 8.]]]\n"
     ]
    }
   ],
   "source": [
    "a3dim = np.array([[[1,2],[3,4]],\n",
    "                 [[5,6], [7,8]]\n",
    "                 ])\n",
    "print('a3dim shape:', a3dim.shape)\n",
    "\n",
    "tf_t = tf.convert_to_tensor(a3dim, dtype=tf.float64)\n",
    "print('tf_t:', tf_t)\n",
    "print('tf_t[0][0][0]:', tf_t[0][0][0])\n",
    "print('tf_t[1][1][1]:', tf_t[1][1][1])\n",
    "print('run(tf_t):\\n', tfs.run(tf_t))"
   ]
  },
  {
   "cell_type": "code",
   "execution_count": null,
   "metadata": {},
   "outputs": [],
   "source": [
    ""
   ]
  }
 ],
 "metadata": {
  "kernelspec": {
   "display_name": "Python 3",
   "language": "python",
   "name": "python3"
  },
  "language_info": {
   "codemirror_mode": {
    "name": "ipython",
    "version": 3.0
   },
   "file_extension": ".py",
   "mimetype": "text/x-python",
   "name": "python",
   "nbconvert_exporter": "python",
   "pygments_lexer": "ipython3",
   "version": "3.6.1"
  }
 },
 "nbformat": 4,
 "nbformat_minor": 0
}