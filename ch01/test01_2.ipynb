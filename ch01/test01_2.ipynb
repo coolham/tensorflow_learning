{
 "cells": [
  {
   "cell_type": "code",
   "execution_count": 9,
   "metadata": {},
   "outputs": [
    {
     "name": "stdout",
     "output_type": "stream",
     "text": [
      "w: <tf.Variable 'Variable_16:0' shape=(1,) dtype=float32_ref>\n",
      "b: <tf.Variable 'Variable_17:0' shape=(1,) dtype=float32_ref>\n",
      "x: Tensor(\"Placeholder_8:0\", dtype=float32)\n",
      "y: Tensor(\"add_8:0\", dtype=float32)\n",
      "run(y, x:{[1,2,3,4]}) :  [0.         0.3        0.6        0.90000004]\n"
     ]
    }
   ],
   "source": [
    "import tensorflow as tf\n",
    "import numpy as np\n",
    "\n",
    "tfs = tf.InteractiveSession()\n",
    "\n",
    "w = tf.Variable([.3], tf.float32)\n",
    "b = tf.Variable([-.3], tf.float32)\n",
    "\n",
    "x = tf.placeholder(tf.float32)\n",
    "y = w * x + b\n",
    "\n",
    "print('w:', w)\n",
    "print('b:', b)\n",
    "print('x:', x)\n",
    "print('y:', y)\n",
    "\n",
    "#tfs.run(w.initializer)\n",
    "tf.global_variables_initializer().run()\n",
    "\n",
    "print('run(y, x:{[1,2,3,4]}) : ', tfs.run(y, {x:[1,2,3,4]}))\n",
    "\n"
   ]
  },
  {
   "cell_type": "code",
   "execution_count": 10,
   "metadata": {},
   "outputs": [
    {
     "name": "stdout",
     "output_type": "stream",
     "text": [
      "[0. 0. 0. 0. 0. 0. 0. 0. 0. 0. 0. 0. 0. 0. 0. 0. 0. 0. 0. 0. 0. 0. 0. 0.\n",
      " 0. 0. 0. 0. 0. 0. 0. 0. 0. 0. 0. 0. 0. 0. 0. 0. 0. 0. 0. 0. 0. 0. 0. 0.\n",
      " 0. 0. 0. 0. 0. 0. 0. 0. 0. 0. 0. 0. 0. 0. 0. 0. 0. 0. 0. 0. 0. 0. 0. 0.\n",
      " 0. 0. 0. 0. 0. 0. 0. 0. 0. 0. 0. 0. 0. 0. 0. 0. 0. 0. 0. 0. 0. 0. 0. 0.\n",
      " 0. 0. 0. 0.]\n"
     ]
    }
   ],
   "source": [
    "a = tf.zeros((100,))\n",
    "print(tfs.run(a))"
   ]
  },
  {
   "cell_type": "code",
   "execution_count": 15,
   "metadata": {},
   "outputs": [
    {
     "name": "stdout",
     "output_type": "stream",
     "text": [
      "<tf.Variable 'w1:0' shape=(1,) dtype=float32_ref>\n",
      "<tf.Variable 'b1:0' shape=(1,) dtype=float32_ref>\n"
     ]
    }
   ],
   "source": [
    "w1 = tf.get_variable(name='w1', dtype=tf.float32, initializer=[.3])\n",
    "b1 = tf.get_variable(name='b1', dtype=tf.float32, initializer=[-.3])\n",
    "print(w1)\n",
    "print(b1)"
   ]
  },
  {
   "cell_type": "code",
   "execution_count": 17,
   "metadata": {},
   "outputs": [
    {
     "name": "stdout",
     "output_type": "stream",
     "text": [
      "w: <tf.Variable 'Variable_20:0' shape=(1,) dtype=float32_ref>\n",
      "b: <tf.Variable 'Variable_21:0' shape=(1,) dtype=float32_ref>\n",
      "x: Tensor(\"Placeholder_10:0\", dtype=float32)\n",
      "y: Tensor(\"add_10:0\", dtype=float32)\n",
      "output: [0.         0.3        0.6        0.90000004]\n"
     ]
    }
   ],
   "source": [
    "w = tf.Variable([.3], tf.float32)\n",
    "b = tf.Variable([-.3], tf.float32)\n",
    "\n",
    "x = tf.placeholder(tf.float32)\n",
    "y = w * x + b\n",
    "\n",
    "print('w:', w)\n",
    "print('b:', b)\n",
    "print('x:', x)\n",
    "print('y:', y)\n",
    "\n",
    "output = 0\n",
    "with tf.Session() as tfs:\n",
    "    tf.global_variables_initializer().run()\n",
    "    write = tf.summary.FileWriter('tflogs', tfs.graph)\n",
    "    output = tfs.run(y, {x:[1,2,3,4]})\n",
    "print('output:', output)"
   ]
  },
  {
   "cell_type": "code",
   "execution_count": null,
   "metadata": {},
   "outputs": [],
   "source": []
  }
 ],
 "metadata": {
  "kernelspec": {
   "display_name": "Python 3",
   "language": "python",
   "name": "python3"
  },
  "language_info": {
   "codemirror_mode": {
    "name": "ipython",
    "version": 3
   },
   "file_extension": ".py",
   "mimetype": "text/x-python",
   "name": "python",
   "nbconvert_exporter": "python",
   "pygments_lexer": "ipython3",
   "version": "3.6.1"
  }
 },
 "nbformat": 4,
 "nbformat_minor": 2
}
