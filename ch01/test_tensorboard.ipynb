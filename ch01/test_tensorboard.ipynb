{
 "cells": [
  {
   "cell_type": "code",
   "execution_count": 7,
   "metadata": {},
   "outputs": [
    {
     "name": "stdout",
     "output_type": "stream",
     "text": [
      "w: <tf.Variable 'w_5:0' shape=(1,) dtype=float32_ref>\n",
      "b: <tf.Variable 'x_10:0' shape=(1,) dtype=float32_ref>\n",
      "x: Tensor(\"x_11:0\", dtype=float32)\n",
      "y: Tensor(\"add_5:0\", dtype=float32)\n",
      "output: [0.6]\n"
     ]
    }
   ],
   "source": [
    "import tensorflow as tf\n",
    "import numpy as np\n",
    "\n",
    "\n",
    "w = tf.Variable([.3], name='w', dtype=tf.float32)\n",
    "b = tf.Variable([-.3], name='x', dtype=tf.float32)\n",
    "\n",
    "x = tf.placeholder(name='x', dtype=tf.float32)\n",
    "y = w * x + b\n",
    "\n",
    "print('w:', w)\n",
    "print('b:', b)\n",
    "print('x:', x)\n",
    "print('y:', y)\n",
    "\n",
    "output = 0\n",
    "\n",
    "\n",
    "with tf.Session() as tfs:\n",
    "    tfs.run(tf.global_variables_initializer())\n",
    "    writer = tf.summary.FileWriter('tflogs', tfs.graph)\n",
    "    output = tfs.run(y, feed_dict={x:3})\n",
    "print('output:', output)\n"
   ]
  },
  {
   "cell_type": "code",
   "execution_count": null,
   "metadata": {},
   "outputs": [],
   "source": []
  },
  {
   "cell_type": "code",
   "execution_count": null,
   "metadata": {},
   "outputs": [],
   "source": []
  }
 ],
 "metadata": {
  "kernelspec": {
   "display_name": "Python 3",
   "language": "python",
   "name": "python3"
  },
  "language_info": {
   "codemirror_mode": {
    "name": "ipython",
    "version": 3
   },
   "file_extension": ".py",
   "mimetype": "text/x-python",
   "name": "python",
   "nbconvert_exporter": "python",
   "pygments_lexer": "ipython3",
   "version": "3.6.1"
  }
 },
 "nbformat": 4,
 "nbformat_minor": 2
}
