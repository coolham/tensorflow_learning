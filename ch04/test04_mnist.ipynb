{
 "cells": [
  {
   "cell_type": "code",
   "execution_count": 1,
   "metadata": {},
   "outputs": [
    {
     "name": "stdout",
     "output_type": "stream",
     "text": [
      "TensorFlow:1.13.1\n",
      "NumPy:1.16.3\n",
      "['c:\\\\python36\\\\python36.zip', 'c:\\\\python36\\\\DLLs', 'c:\\\\python36\\\\lib', 'c:\\\\python36', '', 'c:\\\\python36\\\\lib\\\\site-packages', 'c:\\\\python36\\\\lib\\\\site-packages\\\\pip-9.0.1-py3.6.egg', 'c:\\\\python36\\\\lib\\\\site-packages\\\\IPython\\\\extensions', 'C:\\\\Users\\\\WJ\\\\.ipython', 'D:\\\\Work\\\\tensorflow_test\\\\ch04\\\\datasetslib']\n",
      "WARNING:tensorflow:From <ipython-input-1-6b735b9be91f>:26: read_data_sets (from tensorflow.contrib.learn.python.learn.datasets.mnist) is deprecated and will be removed in a future version.\n",
      "Instructions for updating:\n",
      "Please use alternatives such as official/mnist/dataset.py from tensorflow/models.\n",
      "WARNING:tensorflow:From c:\\python36\\lib\\site-packages\\tensorflow\\contrib\\learn\\python\\learn\\datasets\\mnist.py:260: maybe_download (from tensorflow.contrib.learn.python.learn.datasets.base) is deprecated and will be removed in a future version.\n",
      "Instructions for updating:\n",
      "Please write your own downloading logic.\n",
      "WARNING:tensorflow:From c:\\python36\\lib\\site-packages\\tensorflow\\contrib\\learn\\python\\learn\\datasets\\mnist.py:262: extract_images (from tensorflow.contrib.learn.python.learn.datasets.mnist) is deprecated and will be removed in a future version.\n",
      "Instructions for updating:\n",
      "Please use tf.data to implement this functionality.\n",
      "Extracting ./datasets\\mnist\\train-images-idx3-ubyte.gz\n",
      "WARNING:tensorflow:From c:\\python36\\lib\\site-packages\\tensorflow\\contrib\\learn\\python\\learn\\datasets\\mnist.py:267: extract_labels (from tensorflow.contrib.learn.python.learn.datasets.mnist) is deprecated and will be removed in a future version.\n",
      "Instructions for updating:\n",
      "Please use tf.data to implement this functionality.\n",
      "Extracting ./datasets\\mnist\\train-labels-idx1-ubyte.gz\n",
      "WARNING:tensorflow:From c:\\python36\\lib\\site-packages\\tensorflow\\contrib\\learn\\python\\learn\\datasets\\mnist.py:110: dense_to_one_hot (from tensorflow.contrib.learn.python.learn.datasets.mnist) is deprecated and will be removed in a future version.\n",
      "Instructions for updating:\n",
      "Please use tf.one_hot on tensors.\n",
      "Extracting ./datasets\\mnist\\t10k-images-idx3-ubyte.gz\n",
      "Extracting ./datasets\\mnist\\t10k-labels-idx1-ubyte.gz\n",
      "WARNING:tensorflow:From c:\\python36\\lib\\site-packages\\tensorflow\\contrib\\learn\\python\\learn\\datasets\\mnist.py:290: DataSet.__init__ (from tensorflow.contrib.learn.python.learn.datasets.mnist) is deprecated and will be removed in a future version.\n",
      "Instructions for updating:\n",
      "Please use alternatives such as official/mnist/dataset.py from tensorflow/models.\n",
      "done.\n"
     ]
    }
   ],
   "source": [
    "import sys\n",
    "import os\n",
    "\n",
    "import tensorflow as tf\n",
    "print('TensorFlow:{}'.format(tf.__version__))\n",
    "import numpy as np\n",
    "print('NumPy:{}'.format(np.__version__))\n",
    "\n",
    "import matplotlib.pyplot as plt\n",
    "\n",
    "from tensorflow.examples.tutorials.mnist import input_data\n",
    "\n",
    "base_dir = os.path.abspath('.')\n",
    "\n",
    "DATASETSLIB_HOME = os.path.join(base_dir, 'datasetslib')\n",
    "\n",
    "if not DATASETSLIB_HOME in sys.path:\n",
    "    sys.path.append(DATASETSLIB_HOME)\n",
    "\n",
    "print(sys.path)\n",
    "\n",
    "%reload_ext autoreload\n",
    "%autoreload 2\n",
    "import datasetslib\n",
    "\n",
    "mnist = input_data.read_data_sets(os.path.join(datasetslib.datasets_root, 'mnist'), one_hot=True)\n",
    "\n",
    "print('done.')"
   ]
  },
  {
   "cell_type": "code",
   "execution_count": 2,
   "metadata": {},
   "outputs": [
    {
     "name": "stdout",
     "output_type": "stream",
     "text": [
      "WARNING:tensorflow:From c:\\python36\\lib\\site-packages\\tensorflow\\python\\framework\\op_def_library.py:263: colocate_with (from tensorflow.python.framework.ops) is deprecated and will be removed in a future version.\n",
      "Instructions for updating:\n",
      "Colocations handled automatically by placer.\n",
      "WARNING:tensorflow:From c:\\python36\\lib\\site-packages\\tensorflow\\python\\ops\\math_ops.py:3066: to_int32 (from tensorflow.python.ops.math_ops) is deprecated and will be removed in a future version.\n",
      "Instructions for updating:\n",
      "Use tf.cast instead.\n",
      "opoch 0000 accuracy=0.17090000\n"
     ]
    }
   ],
   "source": [
    "num_outputs = 10  # 0-9 digits\n",
    "num_inputs = 784  # total pixels\n",
    "\n",
    "# learning_rate = 0.001\n",
    "# num_epochs = 1\n",
    "# batch_size = 100\n",
    "# num_batches = int(mnist.train.num_examples/batch_size)\n",
    "\n",
    "learning_rate = 0.001\n",
    "num_epochs = 1\n",
    "batch_size = 100\n",
    "num_batches = int(mnist.train.num_examples/batch_size)\n",
    "\n",
    "x = tf.placeholder(dtype=tf.float32, shape=[None, num_inputs], name='x')\n",
    "y = tf.placeholder(dtype=tf.float32, shape=[None, num_outputs], name='y')\n",
    "\n",
    "w = tf.Variable(tf.zeros([784, 10]), name='w')\n",
    "b = tf.Variable(tf.zeros([10]), name='b')\n",
    "\n",
    "model = tf.nn.softmax(tf.matmul(x, w) + b)\n",
    "\n",
    "loss = tf.reduce_mean(-tf.reduce_sum(y * tf.log(model), axis=1))\n",
    "optimizer = tf.train.GradientDescentOptimizer(learning_rate).minimize(loss)\n",
    "\n",
    "with tf.Session() as tfs:\n",
    "    tf.global_variables_initializer().run()\n",
    "    for epoch in range(num_epochs):\n",
    "        batch_x, batch_y = mnist.train.next_batch(batch_size)\n",
    "        tfs.run(optimizer, feed_dict={x: batch_x, y: batch_y})\n",
    "        predictions_check = tf.equal(tf.argmax(model, 1), tf.argmax(y, 1))\n",
    "        accuracy_function = tf.reduce_mean(\n",
    "            tf.cast(predictions_check, tf.float32)\n",
    "            )\n",
    "        feed_dict = {x: mnist.test.images, y: mnist.test.labels}\n",
    "        accuracy_score = tfs.run(accuracy_function, feed_dict)\n",
    "        print('opoch {0:04d} accuracy={1:.8f}'.format(epoch, accuracy_score))"
   ]
  },
  {
   "cell_type": "code",
   "execution_count": 4,
   "metadata": {},
   "outputs": [
    {
     "name": "stdout",
     "output_type": "stream",
     "text": [
      "epoch 0000 accuracy = 0.75749999\n",
      "epoch 0001 accuracy = 0.79890001\n",
      "epoch 0002 accuracy = 0.81269997\n",
      "epoch 0003 accuracy = 0.82200003\n",
      "epoch 0004 accuracy = 0.83200002\n",
      "epoch 0005 accuracy = 0.83730000\n",
      "epoch 0006 accuracy = 0.84149998\n",
      "epoch 0007 accuracy = 0.84509999\n",
      "epoch 0008 accuracy = 0.85030001\n",
      "epoch 0009 accuracy = 0.85299999\n",
      "epoch 0010 accuracy = 0.85720003\n",
      "epoch 0011 accuracy = 0.86059999\n",
      "epoch 0012 accuracy = 0.86250001\n",
      "epoch 0013 accuracy = 0.86430001\n",
      "epoch 0014 accuracy = 0.86619997\n",
      "epoch 0015 accuracy = 0.86710000\n",
      "epoch 0016 accuracy = 0.86890000\n",
      "epoch 0017 accuracy = 0.87010002\n",
      "epoch 0018 accuracy = 0.87269998\n",
      "epoch 0019 accuracy = 0.87379998\n",
      "epoch 0020 accuracy = 0.87510002\n",
      "epoch 0021 accuracy = 0.87589997\n",
      "epoch 0022 accuracy = 0.87709999\n",
      "epoch 0023 accuracy = 0.87779999\n",
      "epoch 0024 accuracy = 0.87830001\n",
      "epoch 0025 accuracy = 0.87930000\n",
      "epoch 0026 accuracy = 0.87949997\n",
      "epoch 0027 accuracy = 0.88059998\n",
      "epoch 0028 accuracy = 0.88139999\n",
      "epoch 0029 accuracy = 0.88160002\n"
     ]
    },
    {
     "data": {
      "image/png": "[encoded data removed]",
      "text/plain": [
       "<Figure size 1008x576 with 1 Axes>"
      ]
     },
     "metadata": {
      "needs_background": "light"
     },
     "output_type": "display_data"
    }
   ],
   "source": [
    "def mnist_batch_func(batch_size=100):\n",
    "    batch_x, batch_y = mnist.train.next_batch(batch_size)\n",
    "    return [batch_x, batch_y]\n",
    "\n",
    "def tensorflow_classification(num_epochs, num_batches, batch_size, batch_func, optimizer, test_x, test_y):\n",
    "    accuracy_epochs = np.empty(shape=[num_epochs], dtype=np.float32)\n",
    "    with tf.Session() as tfs:\n",
    "        tf.global_variables_initializer().run()\n",
    "        for epoch in range(num_epochs):\n",
    "            for batch in range(num_batches):\n",
    "                batch_x, batch_y = batch_func(batch_size)\n",
    "                feed_dict = {x: batch_x, y: batch_y}\n",
    "                tfs.run(optimizer, feed_dict)\n",
    "            predictions_check = tf.equal(tf.argmax(model, 1), tf.argmax(y, 1))\n",
    "            accuracy_function = tf.reduce_mean(\n",
    "                tf.cast(predictions_check, tf.float32))\n",
    "            feed_dict = {x: test_x, y: test_y}\n",
    "            accuracy_score = tfs.run(accuracy_function, feed_dict)\n",
    "            accuracy_epochs[epoch] = accuracy_score\n",
    "            print('epoch {0:04d} accuracy = {1:.8f}'.format(epoch, accuracy_score))\n",
    "    \n",
    "    plt.figure(figsize=(14, 8))\n",
    "    plt.axis([0, num_epochs, np.min(accuracy_epochs), np.max(accuracy_epochs)])\n",
    "    plt.plot(accuracy_epochs, label='Accuracy Score')\n",
    "    plt.title('Accuracy over Iterations')\n",
    "    plt.xlabel('# Epoch')\n",
    "    plt.ylabel('Accuracy Score')\n",
    "    plt.legend()\n",
    "    plt.show()\n",
    "    \n",
    "num_epochs = 30\n",
    "tensorflow_classification(num_epochs=num_epochs, \n",
    "                        num_batches=num_batches,\n",
    "                        batch_size=batch_size,\n",
    "                        batch_func=mnist_batch_func,\n",
    "                        optimizer=optimizer,\n",
    "                        test_x=mnist.test.images,\n",
    "                        test_y=mnist.test.labels\n",
    "                       )"
   ]
  },
  {
   "cell_type": "code",
   "execution_count": null,
   "metadata": {},
   "outputs": [],
   "source": [
    ""
   ]
  }
 ],
 "metadata": {
  "kernelspec": {
   "display_name": "Python 3",
   "language": "python",
   "name": "python3"
  },
  "language_info": {
   "codemirror_mode": {
    "name": "ipython",
    "version": 3.0
   },
   "file_extension": ".py",
   "mimetype": "text/x-python",
   "name": "python",
   "nbconvert_exporter": "python",
   "pygments_lexer": "ipython3",
   "version": "3.6.1"
  }
 },
 "nbformat": 4,
 "nbformat_minor": 0
}