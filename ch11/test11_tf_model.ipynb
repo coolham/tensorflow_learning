{
 "cells": [
  {
   "cell_type": "code",
   "execution_count": 1,
   "metadata": {},
   "outputs": [
    {
     "name": "stdout",
     "output_type": "stream",
     "text": [
      "NumPy:1.16.2\n",
      "Matplotlib:2.2.2\n",
      "TensorFlow:1.13.1\n"
     ]
    },
    {
     "name": "stderr",
     "output_type": "stream",
     "text": [
      "Using TensorFlow backend.\n"
     ]
    },
    {
     "name": "stdout",
     "output_type": "stream",
     "text": [
      "Keras:2.2.4\n",
      "['C:\\\\Work\\\\pypath', 'c:\\\\python36\\\\python36.zip', 'c:\\\\python36\\\\DLLs', 'c:\\\\python36\\\\lib', 'c:\\\\python36', '', 'c:\\\\python36\\\\lib\\\\site-packages', 'c:\\\\python36\\\\lib\\\\site-packages\\\\setuptools-36.5.0-py3.6.egg', 'c:\\\\python36\\\\lib\\\\site-packages\\\\win32', 'c:\\\\python36\\\\lib\\\\site-packages\\\\win32\\\\lib', 'c:\\\\python36\\\\lib\\\\site-packages\\\\Pythonwin', 'c:\\\\python36\\\\lib\\\\site-packages\\\\IPython\\\\extensions', 'C:\\\\Users\\\\wj_di\\\\.ipython', 'C:\\\\Work\\\\github\\\\tensorflow_learning']\n"
     ]
    }
   ],
   "source": [
    "import os\n",
    "import sys\n",
    "import numpy as np\n",
    "np.random.seed(123)\n",
    "print(\"NumPy:{}\".format(np.__version__))\n",
    "\n",
    "import matplotlib as mpl\n",
    "import matplotlib.pyplot as plt\n",
    "from matplotlib.pylab import rcParams\n",
    "rcParams['figure.figsize']=15,10\n",
    "print(\"Matplotlib:{}\".format(mpl.__version__))\n",
    "\n",
    "import tensorflow as tf\n",
    "tf.set_random_seed(123)\n",
    "print(\"TensorFlow:{}\".format(tf.__version__))\n",
    "\n",
    "import keras\n",
    "print(\"Keras:{}\".format(keras.__version__))\n",
    "\n",
    "current_path = os.getcwd()\n",
    "base_dir = os.path.dirname(current_path)\n",
    "\n",
    "if not base_dir in sys.path:\n",
    "    sys.path.append(base_dir)\n",
    "\n",
    "print(sys.path)\n",
    "\n",
    "%reload_ext autoreload\n",
    "%autoreload 2\n",
    "import datasetslib\n",
    "\n",
    "datasetslib.datasets_root = os.path.join(os.path.expanduser('~'),'datasets')\n",
    "\n",
    "from tensorflow.examples.tutorials.mnist import input_data\n",
    "\n"
   ]
  },
  {
   "cell_type": "code",
   "execution_count": 6,
   "metadata": {},
   "outputs": [
    {
     "name": "stdout",
     "output_type": "stream",
     "text": [
      "C:\\Work\\github\\tensorflow_learning\\ch11\\saved-model\\full-graph-save-example.ckpt\n",
      "Model saved in C:\\Work\\github\\tensorflow_learning\\ch11\\saved-model\\full-graph-save-example.ckpt\n",
      "Values of variables w,b: [0.3] [-0.3]\n",
      "output=[0.         0.3        0.6        0.90000004]\n"
     ]
    }
   ],
   "source": [
    "tf.reset_default_graph()\n",
    "\n",
    "w = tf.Variable([.3], tf.float32)\n",
    "b = tf.Variable([-.3], tf.float32)\n",
    "\n",
    "x = tf.placeholder(tf.float32)\n",
    "y = w * x + b\n",
    "output = 0\n",
    "\n",
    "saver = tf.train.Saver()\n",
    "\n",
    "current_path = os.getcwd()\n",
    "\n",
    "file_name = os.path.join(current_path, 'saved-model', 'full-graph-save-example.ckpt')\n",
    "print('{0:}'.format(file_name))\n",
    "      \n",
    "with tf.Session() as tfs:\n",
    "    tfs.run(tf.global_variables_initializer())\n",
    "    output = tfs.run(y, {x:[1,2,3,4]})\n",
    "    saved_model_file = saver.save(tfs, file_name)\n",
    "    print('Model saved in {}'.format(saved_model_file))\n",
    "    print('Values of variables w,b: {} {}'.format(w.eval(), b.eval()))\n",
    "    print('output={}'.format(output))\n",
    "    \n"
   ]
  },
  {
   "cell_type": "code",
   "execution_count": 20,
   "metadata": {},
   "outputs": [
    {
     "name": "stdout",
     "output_type": "stream",
     "text": [
      "C:\\Work\\github\\tensorflow_learning\\ch11\\saved-model\\full-graph-save-example.ckpt\n",
      "INFO:tensorflow:Restoring parameters from C:\\Work\\github\\tensorflow_learning\\ch11\\saved-model\\full-graph-save-example.ckpt\n",
      "Values of variables w,b: [0.3][-0.3]\n",
      "output = [0.         0.3        0.6        0.90000004]\n"
     ]
    }
   ],
   "source": [
    "tf.reset_default_graph()\n",
    "# Assume Linear Model y = w * x + b\n",
    "# Define model parameters\n",
    "\n",
    "# 从文件恢复变量\n",
    "w = tf.Variable([0], dtype=tf.float32)\n",
    "b = tf.Variable([0], dtype=tf.float32)\n",
    "\n",
    "x = tf.placeholder(dtype=tf.float32)\n",
    "y = w * x + b\n",
    "output = 0\n",
    "\n",
    "saver = tf.train.Saver()\n",
    "\n",
    "file_name = os.path.join(current_path, 'saved-model', 'full-graph-save-example.ckpt')\n",
    "print('{0:}'.format(file_name))\n",
    "\n",
    "with tf.Session() as tfs:\n",
    "    saved_model_file = saver.restore(tfs, file_name)\n",
    "    print('Values of variables w,b: {}{}'.format(w.eval(),b.eval()))\n",
    "    output = tfs.run(y, {x:[1,2,3,4]})\n",
    "    print('output = {}'.format(output))\n"
   ]
  },
  {
   "cell_type": "code",
   "execution_count": 23,
   "metadata": {},
   "outputs": [
    {
     "name": "stdout",
     "output_type": "stream",
     "text": [
      "C:\\Work\\github\\tensorflow_learning\\ch11\\saved-model-w\\full-graph-save-example.ckpt\n",
      "Model saved in C:\\Work\\github\\tensorflow_learning\\ch11\\saved-model-w\\full-graph-save-example.ckpt\n",
      "Values of variables w,b: [0.3] [-0.3]\n",
      "output=[0.         0.3        0.6        0.90000004]\n"
     ]
    }
   ],
   "source": [
    "# 指定保存的变量\n",
    "tf.reset_default_graph()\n",
    "\n",
    "w = tf.Variable([.3], tf.float32)\n",
    "b = tf.Variable([-.3], tf.float32)\n",
    "\n",
    "x = tf.placeholder(tf.float32)\n",
    "y = w * x + b\n",
    "output = 0\n",
    "\n",
    "\n",
    "saver = tf.train.Saver({'weights': w})\n",
    "\n",
    "current_path = os.getcwd()\n",
    "\n",
    "file_name = os.path.join(current_path, 'saved-model-w', 'full-graph-save-example.ckpt')\n",
    "print('{0:}'.format(file_name))\n",
    "      \n",
    "with tf.Session() as tfs:\n",
    "    tfs.run(tf.global_variables_initializer())\n",
    "    output = tfs.run(y, {x:[1,2,3,4]})\n",
    "    saved_model_file = saver.save(tfs, file_name)\n",
    "    print('Model saved in {}'.format(saved_model_file))\n",
    "    print('Values of variables w,b: {} {}'.format(w.eval(), b.eval()))\n",
    "    print('output={}'.format(output))\n",
    "    "
   ]
  },
  {
   "cell_type": "code",
   "execution_count": 24,
   "metadata": {},
   "outputs": [
    {
     "name": "stdout",
     "output_type": "stream",
     "text": [
      "C:\\Work\\github\\tensorflow_learning\\ch11\\saved-model-w\\full-graph-save-example.ckpt\n",
      "INFO:tensorflow:Restoring parameters from C:\\Work\\github\\tensorflow_learning\\ch11\\saved-model-w\\full-graph-save-example.ckpt\n",
      "Values of variables w,b: [0.3][0.]\n",
      "output = [0.3        0.6        0.90000004 1.2       ]\n"
     ]
    }
   ],
   "source": [
    "tf.reset_default_graph()\n",
    "# Assume Linear Model y = w * x + b\n",
    "# Define model parameters\n",
    "\n",
    "# 从文件恢复变量\n",
    "w = tf.Variable([0], dtype=tf.float32)\n",
    "b = tf.Variable([0], dtype=tf.float32)\n",
    "\n",
    "x = tf.placeholder(dtype=tf.float32)\n",
    "y = w * x + b\n",
    "output = 0\n",
    "\n",
    "saver = tf.train.Saver({'weights': w})\n",
    "\n",
    "file_name = os.path.join(current_path, 'saved-model-w', 'full-graph-save-example.ckpt')\n",
    "print('{0:}'.format(file_name))\n",
    "\n",
    "with tf.Session() as tfs:\n",
    "    # 必须使用b.initializer()初始化偏差， tfs.run(tf.global_variables_initializer())会初始化所有变量\n",
    "    b.initializer.run()\n",
    "    saved_model_file = saver.restore(tfs, file_name)\n",
    "    print('Values of variables w,b: {}{}'.format(w.eval(),b.eval()))\n",
    "    output = tfs.run(y, {x:[1,2,3,4]})\n",
    "    print('output = {}'.format(output))"
   ]
  },
  {
   "cell_type": "code",
   "execution_count": null,
   "metadata": {},
   "outputs": [],
   "source": []
  }
 ],
 "metadata": {
  "kernelspec": {
   "display_name": "Python 3",
   "language": "python",
   "name": "python3"
  },
  "language_info": {
   "codemirror_mode": {
    "name": "ipython",
    "version": 3
   },
   "file_extension": ".py",
   "mimetype": "text/x-python",
   "name": "python",
   "nbconvert_exporter": "python",
   "pygments_lexer": "ipython3",
   "version": "3.6.2"
  }
 },
 "nbformat": 4,
 "nbformat_minor": 2
}
