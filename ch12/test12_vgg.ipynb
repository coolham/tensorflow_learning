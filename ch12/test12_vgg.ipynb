{
 "cells": [
  {
   "cell_type": "code",
   "execution_count": 12,
   "metadata": {
    "scrolled": true
   },
   "outputs": [
    {
     "name": "stdout",
     "output_type": "stream",
     "text": [
      "NumPy:1.16.2\n",
      "Matplotlib:2.2.2\n",
      "TensorFlow:1.13.1\n",
      "Keras:2.2.4\n",
      "['C:\\\\Work\\\\pypath', 'c:\\\\python36\\\\python36.zip', 'c:\\\\python36\\\\DLLs', 'c:\\\\python36\\\\lib', 'c:\\\\python36', '', 'c:\\\\python36\\\\lib\\\\site-packages', 'c:\\\\python36\\\\lib\\\\site-packages\\\\setuptools-36.5.0-py3.6.egg', 'c:\\\\python36\\\\lib\\\\site-packages\\\\win32', 'c:\\\\python36\\\\lib\\\\site-packages\\\\win32\\\\lib', 'c:\\\\python36\\\\lib\\\\site-packages\\\\Pythonwin', 'c:\\\\python36\\\\lib\\\\site-packages\\\\IPython\\\\extensions', 'C:\\\\Users\\\\wj_di\\\\.ipython', 'C:\\\\Work\\\\github\\\\tensorflow_learning']\n"
     ]
    }
   ],
   "source": [
    "import os\n",
    "import sys\n",
    "import numpy as np\n",
    "np.random.seed(123)\n",
    "print(\"NumPy:{}\".format(np.__version__))\n",
    "\n",
    "import matplotlib as mpl\n",
    "import matplotlib.pyplot as plt\n",
    "import matplotlib.image as mpimg\n",
    "from matplotlib.pylab import rcParams\n",
    "rcParams['figure.figsize']=15,10\n",
    "print(\"Matplotlib:{}\".format(mpl.__version__))\n",
    "\n",
    "import tensorflow as tf\n",
    "tf.set_random_seed(123)\n",
    "print(\"TensorFlow:{}\".format(tf.__version__))\n",
    "\n",
    "import keras\n",
    "print(\"Keras:{}\".format(keras.__version__))\n",
    "\n",
    "current_path = os.getcwd()\n",
    "base_dir = os.path.dirname(current_path)\n",
    "\n",
    "if not base_dir in sys.path:\n",
    "    sys.path.append(base_dir)\n",
    "\n",
    "print(sys.path)\n",
    "\n",
    "%reload_ext autoreload\n",
    "%autoreload 2\n",
    "import datasetslib\n",
    "from datasetslib import util as dsu\n",
    "from datasetslib import nputil\n",
    "\n",
    "datasetslib.datasets_root = os.path.join(os.getcwd(), 'datasets')\n",
    "models_root = os.path.join(os.getcwd(), 'models')\n",
    "\n",
    "\n",
    "from datasetslib.imagenet import imageNet\n",
    "\n",
    "# 注意：scipy库出现：\"cannot import name 'imread'\"， 需要scipy版本1.2之下\n",
    "\n",
    "\n",
    "\n",
    "\n",
    "    "
   ]
  },
  {
   "cell_type": "code",
   "execution_count": 23,
   "metadata": {},
   "outputs": [],
   "source": [
    "def disp(images,id2label=None,probs=None,n_top=5,scale=False):\n",
    "    if scale:\n",
    "        imgs = np.abs(images + np.array([[[[123.68, 116.78, 103.94]]]]))/255.0\n",
    "    else:\n",
    "        imgs = images\n",
    "\n",
    "    ids={}\n",
    "    for j in range(len(images)):\n",
    "        if scale:\n",
    "            plt.figure(figsize=(5,5))\n",
    "            plt.imshow(imgs[j])\n",
    "        else:\n",
    "            plt.imshow(imgs[j].astype(np.uint8) )\n",
    "        plt.show()\n",
    "        if probs is not None:\n",
    "            ids[j] = [i[0] for i in sorted(enumerate(-probs[j]), key=lambda x:x[1])]\n",
    "            for k in range(n_top):\n",
    "                id = ids[j][k]\n",
    "                print('Probability {0:1.2f}% of [{1:}]'\n",
    "                      .format(100*probs[j,id],id2label[id]))\n"
   ]
  },
  {
   "cell_type": "code",
   "execution_count": null,
   "metadata": {},
   "outputs": [],
   "source": []
  },
  {
   "cell_type": "code",
   "execution_count": 27,
   "metadata": {},
   "outputs": [
    {
     "name": "stdout",
     "output_type": "stream",
     "text": [
      "Already exists: C:\\Work\\github\\tensorflow_learning\\ch12\\datasets\\coco-animals\\coco-animals.zip\n",
      "['C:\\\\Work\\\\github\\\\tensorflow_learning\\\\ch12\\\\datasets\\\\coco-animals\\\\coco-animals\\\\train\\\\horse\\\\COCO_train2014_000000005903.jpg', 'C:\\\\Work\\\\github\\\\tensorflow_learning\\\\ch12\\\\datasets\\\\coco-animals\\\\coco-animals\\\\train\\\\dog\\\\COCO_train2014_000000114469.jpg', 'C:\\\\Work\\\\github\\\\tensorflow_learning\\\\ch12\\\\datasets\\\\coco-animals\\\\coco-animals\\\\train\\\\zebra\\\\COCO_train2014_000000303233.jpg', 'C:\\\\Work\\\\github\\\\tensorflow_learning\\\\ch12\\\\datasets\\\\coco-animals\\\\coco-animals\\\\train\\\\dog\\\\COCO_train2014_000000299115.jpg', 'C:\\\\Work\\\\github\\\\tensorflow_learning\\\\ch12\\\\datasets\\\\coco-animals\\\\coco-animals\\\\train\\\\cat\\\\COCO_train2014_000000379360.jpg', 'C:\\\\Work\\\\github\\\\tensorflow_learning\\\\ch12\\\\datasets\\\\coco-animals\\\\coco-animals\\\\train\\\\horse\\\\COCO_train2014_000000183231.jpg', 'C:\\\\Work\\\\github\\\\tensorflow_learning\\\\ch12\\\\datasets\\\\coco-animals\\\\coco-animals\\\\train\\\\bird\\\\COCO_train2014_000000032061.jpg', 'C:\\\\Work\\\\github\\\\tensorflow_learning\\\\ch12\\\\datasets\\\\coco-animals\\\\coco-animals\\\\train\\\\horse\\\\COCO_train2014_000000056049.jpg']\n"
     ]
    }
   ],
   "source": [
    "# Load the dataset\n",
    "from datasetslib.coco import coco_animals\n",
    "\n",
    "coco = coco_animals()\n",
    "x_train_files, y_train, x_val_files, x_val = coco.load_data()\n",
    "\n",
    "#x_test = [x_train_files[0],x_train_files[245]]\n",
    "x_test = [x_val_files[25*x] for x in range(8)]\n",
    "print('{}'.format(x_test))\n"
   ]
  },
  {
   "cell_type": "code",
   "execution_count": 28,
   "metadata": {},
   "outputs": [
    {
     "ename": "TypeError",
     "evalue": "int() argument must be a string, a bytes-like object or a number, not 'JpegImageFile'",
     "output_type": "error",
     "traceback": [
      "\u001b[1;31m---------------------------------------------------------------------------\u001b[0m",
      "\u001b[1;31mTypeError\u001b[0m                                 Traceback (most recent call last)",
      "\u001b[1;32m<ipython-input-28-00b6dcad95ac>\u001b[0m in \u001b[0;36m<module>\u001b[1;34m\u001b[0m\n\u001b[0;32m      1\u001b[0m \u001b[0mimages\u001b[0m\u001b[1;33m=\u001b[0m\u001b[0mnp\u001b[0m\u001b[1;33m.\u001b[0m\u001b[0marray\u001b[0m\u001b[1;33m(\u001b[0m\u001b[1;33m[\u001b[0m\u001b[0mmpimg\u001b[0m\u001b[1;33m.\u001b[0m\u001b[0mimread\u001b[0m\u001b[1;33m(\u001b[0m\u001b[0mx\u001b[0m\u001b[1;33m)\u001b[0m \u001b[1;32mfor\u001b[0m \u001b[0mx\u001b[0m \u001b[1;32min\u001b[0m \u001b[0mx_test\u001b[0m\u001b[1;33m]\u001b[0m\u001b[1;33m)\u001b[0m\u001b[1;33m\u001b[0m\u001b[0m\n\u001b[1;32m----> 2\u001b[1;33m \u001b[0mdisp\u001b[0m\u001b[1;33m(\u001b[0m\u001b[0mimages\u001b[0m\u001b[1;33m)\u001b[0m\u001b[1;33m\u001b[0m\u001b[0m\n\u001b[0m",
      "\u001b[1;32m<ipython-input-23-cc3ce907be58>\u001b[0m in \u001b[0;36mdisp\u001b[1;34m(images, id2label, probs, n_top, scale)\u001b[0m\n\u001b[0;32m     11\u001b[0m             \u001b[0mplt\u001b[0m\u001b[1;33m.\u001b[0m\u001b[0mimshow\u001b[0m\u001b[1;33m(\u001b[0m\u001b[0mimgs\u001b[0m\u001b[1;33m[\u001b[0m\u001b[0mj\u001b[0m\u001b[1;33m]\u001b[0m\u001b[1;33m)\u001b[0m\u001b[1;33m\u001b[0m\u001b[0m\n\u001b[0;32m     12\u001b[0m         \u001b[1;32melse\u001b[0m\u001b[1;33m:\u001b[0m\u001b[1;33m\u001b[0m\u001b[0m\n\u001b[1;32m---> 13\u001b[1;33m             \u001b[0mplt\u001b[0m\u001b[1;33m.\u001b[0m\u001b[0mimshow\u001b[0m\u001b[1;33m(\u001b[0m\u001b[0mimgs\u001b[0m\u001b[1;33m[\u001b[0m\u001b[0mj\u001b[0m\u001b[1;33m]\u001b[0m\u001b[1;33m.\u001b[0m\u001b[0mastype\u001b[0m\u001b[1;33m(\u001b[0m\u001b[0mnp\u001b[0m\u001b[1;33m.\u001b[0m\u001b[0muint8\u001b[0m\u001b[1;33m)\u001b[0m \u001b[1;33m)\u001b[0m\u001b[1;33m\u001b[0m\u001b[0m\n\u001b[0m\u001b[0;32m     14\u001b[0m         \u001b[0mplt\u001b[0m\u001b[1;33m.\u001b[0m\u001b[0mshow\u001b[0m\u001b[1;33m(\u001b[0m\u001b[1;33m)\u001b[0m\u001b[1;33m\u001b[0m\u001b[0m\n\u001b[0;32m     15\u001b[0m         \u001b[1;32mif\u001b[0m \u001b[0mprobs\u001b[0m \u001b[1;32mis\u001b[0m \u001b[1;32mnot\u001b[0m \u001b[1;32mNone\u001b[0m\u001b[1;33m:\u001b[0m\u001b[1;33m\u001b[0m\u001b[0m\n",
      "\u001b[1;31mTypeError\u001b[0m: int() argument must be a string, a bytes-like object or a number, not 'JpegImageFile'"
     ]
    }
   ],
   "source": [
    "images=np.array([mpimg.imread(x) for x in x_test])\n",
    "disp(images)"
   ]
  },
  {
   "cell_type": "code",
   "execution_count": null,
   "metadata": {},
   "outputs": [],
   "source": [
    "from tensorflow.contrib import slim\n",
    "from tensorflow.contrib.slim.nets import vgg\n",
    "\n",
    "\n",
    "inet = imageNet()\n",
    "inet.load_data(n_classes=1000)\n",
    "\n",
    "model_name = 'vgg_16'\n",
    "model_url = 'http://download.tensorflow.org/models/'\n",
    "model_files = ['vgg_16_2016_08_28.tar.gz']\n",
    "model_home = os.path.join(models_root, model_name)\n",
    "\n",
    "dsu.download_dataset(source_url=model_url, \n",
    "                    source_files=model_files,\n",
    "                    dest_dir=model_home,\n",
    "                    force=False,\n",
    "                    extract=True)\n",
    "\n",
    "\n",
    "image_height = vgg.vgg_16.default_image_size\n",
    "image_width = vgg.vgg_16.default_image_size\n",
    "\n",
    "tf.reset_default_graph()\n",
    "\n",
    "x_p = tf.placeholder(shape=(None, image_height, image_width, 3),\n",
    "                    dtype=tf.float32, name='x_p')\n",
    "\n",
    "with slim.arg_scope(vgg.vgg_arg_scope()):\n",
    "    logits, _ = vgg.vgg_16(x_p, num_classes=inet.n_classes, is_training=False)\n",
    "   \n",
    "probabilities = tf.nn.softmax(logits)\n",
    "\n",
    "init = slim.assign_from_checkpoint_fn(os.path.join(model_home, '{}.ckpt'.format(model_name)))\n",
    "\n",
    "with tf.Session() as tfs:\n",
    "    init(tfs)\n",
    "    probs = tfs.run([probibilities], feed_dict={x_p: images_test})\n",
    "    probs = probs[0]\n",
    "    \n",
    "\n",
    "disp(images_test, id2label=inet.id2label, probs=probs, scale=True)\n",
    "\n",
    "                    "
   ]
  },
  {
   "cell_type": "code",
   "execution_count": null,
   "metadata": {},
   "outputs": [],
   "source": []
  },
  {
   "cell_type": "code",
   "execution_count": null,
   "metadata": {},
   "outputs": [],
   "source": []
  }
 ],
 "metadata": {
  "kernelspec": {
   "display_name": "Python 3",
   "language": "python",
   "name": "python3"
  },
  "language_info": {
   "codemirror_mode": {
    "name": "ipython",
    "version": 3
   },
   "file_extension": ".py",
   "mimetype": "text/x-python",
   "name": "python",
   "nbconvert_exporter": "python",
   "pygments_lexer": "ipython3",
   "version": "3.6.2"
  }
 },
 "nbformat": 4,
 "nbformat_minor": 2
}
